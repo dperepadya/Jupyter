{
 "cells": [
  {
   "cell_type": "code",
   "execution_count": 104,
   "id": "14effd50",
   "metadata": {},
   "outputs": [],
   "source": [
    "import tensorflow as tf\n",
    "from transformers import T5Tokenizer, TFT5ForConditionalGeneration"
   ]
  },
  {
   "cell_type": "code",
   "execution_count": 105,
   "id": "0ab36644",
   "metadata": {},
   "outputs": [],
   "source": [
    "source_text = \"In a hole in the ground there lived a hobbit. Not a nasty, dirty, wet hole, filled with the ends of worms and an oozy smell, nor yet a dry, bare, sandy hole with nothing in it to sit down on or to eat: it was a hobbit-hole, and that means comfort\""
   ]
  },
  {
   "cell_type": "code",
   "execution_count": 106,
   "id": "3e222001",
   "metadata": {},
   "outputs": [],
   "source": [
    "input_text = f\"translate English to French: {source_text}\""
   ]
  },
  {
   "cell_type": "code",
   "execution_count": 107,
   "id": "a4ffd7db",
   "metadata": {},
   "outputs": [],
   "source": [
    "model_name = \"t5-base\""
   ]
  },
  {
   "cell_type": "code",
   "execution_count": 108,
   "id": "14720887",
   "metadata": {},
   "outputs": [],
   "source": [
    "model_max_length = 512"
   ]
  },
  {
   "cell_type": "code",
   "execution_count": 109,
   "id": "0b8d515c",
   "metadata": {},
   "outputs": [],
   "source": [
    "tokenizer = T5Tokenizer.from_pretrained(model_name, model_max_length=model_max_length)"
   ]
  },
  {
   "cell_type": "code",
   "execution_count": 110,
   "id": "c27c6671",
   "metadata": {},
   "outputs": [
    {
     "name": "stderr",
     "output_type": "stream",
     "text": [
      "All model checkpoint layers were used when initializing TFT5ForConditionalGeneration.\n",
      "\n",
      "All the layers of TFT5ForConditionalGeneration were initialized from the model checkpoint at t5-base.\n",
      "If your task is similar to the task the model of the checkpoint was trained on, you can already use TFT5ForConditionalGeneration for predictions without further training.\n"
     ]
    }
   ],
   "source": [
    "model = TFT5ForConditionalGeneration.from_pretrained(model_name)"
   ]
  },
  {
   "cell_type": "code",
   "execution_count": 111,
   "id": "402d9e65",
   "metadata": {},
   "outputs": [],
   "source": [
    "input_ids = tokenizer(input_text, return_tensors='tf').input_ids"
   ]
  },
  {
   "cell_type": "code",
   "execution_count": 112,
   "id": "54c9fda6",
   "metadata": {},
   "outputs": [],
   "source": [
    "translation = model.generate(input_ids, max_length=model_max_length)"
   ]
  },
  {
   "cell_type": "code",
   "execution_count": 113,
   "id": "66be5c57",
   "metadata": {},
   "outputs": [],
   "source": [
    "output = tokenizer.decode(translation[0], skip_special_tokens=True)"
   ]
  },
  {
   "cell_type": "code",
   "execution_count": 102,
   "id": "a1e2bce9",
   "metadata": {},
   "outputs": [
    {
     "name": "stdout",
     "output_type": "stream",
     "text": [
      "In a hole in the ground there lived a hobbit. Not a nasty, dirty, wet hole, filled with the ends of worms and an oozy smell, nor yet a dry, bare, sandy hole with nothing in it to sit down on or to eat: it was a hobbit-hole, and that means comfort\n"
     ]
    }
   ],
   "source": [
    "print(source)"
   ]
  },
  {
   "cell_type": "code",
   "execution_count": 114,
   "id": "ae868723",
   "metadata": {},
   "outputs": [
    {
     "name": "stdout",
     "output_type": "stream",
     "text": [
      "Dans un trou dans le sol, il y avait un huître, pas un trou maladroit, sale, humide, rempli de fûts de vers et d’une odeur savoureuse, ni encore un trou sec, nu, sablonneux, où rien ne pouvait s’asseoir ou manger : c’était un trou huître, et cela signifie confort.\n"
     ]
    }
   ],
   "source": [
    "print(output)"
   ]
  },
  {
   "cell_type": "code",
   "execution_count": null,
   "id": "d1f8e0e9",
   "metadata": {},
   "outputs": [],
   "source": []
  },
  {
   "cell_type": "code",
   "execution_count": 117,
   "id": "d19689de",
   "metadata": {},
   "outputs": [],
   "source": [
    "input_text = f\"translate English to German: {source_text}\""
   ]
  },
  {
   "cell_type": "code",
   "execution_count": 118,
   "id": "92780e72",
   "metadata": {},
   "outputs": [],
   "source": [
    "tokenizer = T5Tokenizer.from_pretrained(model_name, model_max_length=model_max_length)"
   ]
  },
  {
   "cell_type": "code",
   "execution_count": 119,
   "id": "099de1df",
   "metadata": {},
   "outputs": [],
   "source": [
    "input_ids = tokenizer(input_text, return_tensors='tf').input_ids"
   ]
  },
  {
   "cell_type": "code",
   "execution_count": 120,
   "id": "8abcceaf",
   "metadata": {},
   "outputs": [],
   "source": [
    "translation = model.generate(input_ids, max_length=model_max_length)"
   ]
  },
  {
   "cell_type": "code",
   "execution_count": 121,
   "id": "63f1ba58",
   "metadata": {},
   "outputs": [],
   "source": [
    "output = tokenizer.decode(translation[0], skip_special_tokens=True)"
   ]
  },
  {
   "cell_type": "code",
   "execution_count": 122,
   "id": "c22d0908",
   "metadata": {},
   "outputs": [
    {
     "name": "stdout",
     "output_type": "stream",
     "text": [
      "In einem Bodenloch lebte ein Hübscher, kein schmutziges, nasses Loch, gefüllt mit Würmerenden und einem schmackhaften Geruch, noch ein trockenes, nacktes, sandiges Loch, in dem nichts drin war, auf dem man sich niederlegen oder essen könnte: Es war ein Hübscherloch, und das bedeutet Komfort.\n"
     ]
    }
   ],
   "source": [
    "print(output)"
   ]
  }
 ],
 "metadata": {
  "kernelspec": {
   "display_name": "Python 3 (ipykernel)",
   "language": "python",
   "name": "python3"
  },
  "language_info": {
   "codemirror_mode": {
    "name": "ipython",
    "version": 3
   },
   "file_extension": ".py",
   "mimetype": "text/x-python",
   "name": "python",
   "nbconvert_exporter": "python",
   "pygments_lexer": "ipython3",
   "version": "3.10.11"
  }
 },
 "nbformat": 4,
 "nbformat_minor": 5
}
