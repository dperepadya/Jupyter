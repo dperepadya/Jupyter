{
 "cells": [
  {
   "cell_type": "code",
   "execution_count": 1,
   "id": "9159b895",
   "metadata": {},
   "outputs": [],
   "source": [
    "from transformers import pipeline"
   ]
  },
  {
   "cell_type": "code",
   "execution_count": 2,
   "id": "1f3e0a3f",
   "metadata": {},
   "outputs": [],
   "source": [
    "text = \"\"\"Republican lawmakers released a draft bill on Friday that would provide crypto assets and exchanges a clearer\n",
    "regulatory plan, allowing digital assets to be traded on more conventional trading platforms and introducing a division\n",
    "of authority between the top two U.S. financial regulators.\n",
    "The discussion draft was co-authored by Reps. Patrick McHenry, R-N.C., and Glenn Thompson, R-Pa., and would grant the\n",
    "Commodity Futures Trading Commission explicit spot market authority over crypto commodities under existing law.\n",
    "The Securities and Exchange Commission would regulate digital-asset securities.\n",
    "The bill would “prohibit the SEC” from preventing an alternative trading system, or ATS, from listing crypto securities\n",
    "and would require the SEC to “modify its rules to allow broker-dealers to custody digital assets,” according to a draft\n",
    "summary.\n",
    "The bill proposes a clearer pathway for the registered offer and sale of digital assets. The SEC has based several\n",
    "enforcement actions against American crypto entities — including Gemini, Genesis and Kraken — by arguing the companies\n",
    "engaged in the unregistered offer and sale of securities.\n",
    "A key carve-out for DeFi — or decentralized finance — assets would allow SEC-certified assets to be exempt from registering\n",
    "as securities.\n",
    "Crypto exchanges have been calling for regulatory clarity in the wake of expansive enforcement actions that have left\n",
    "companies and developers scrambling to move operations beyond the U.S. Crypto exchanges Coinbase and Gemini have both\n",
    "announced off-shore exchange operations.\n",
    "Coinbase also is engaged in a bruising courtroom battle with the SEC over the very issues that apparently prompted the\n",
    "McHenry-Thompson bill. The crypto exchange received a Wells notice, a warning of impending enforcement action, from the\n",
    "SEC earlier this year.\n",
    "The draft bill will likely be reshaped and modified in coming weeks and months, but it represents a powerful vote of\n",
    "support from two influential Republican members.\n",
    "\"\"\""
   ]
  },
  {
   "cell_type": "code",
   "execution_count": 3,
   "id": "1e87ec92",
   "metadata": {},
   "outputs": [],
   "source": [
    "# Load the summarizer pipeline\n",
    "sum_pipeline = pipeline(\"summarization\", model=\"facebook/bart-large-cnn\")"
   ]
  },
  {
   "cell_type": "code",
   "execution_count": 4,
   "id": "63ae0a76",
   "metadata": {},
   "outputs": [],
   "source": [
    "max_length = 130\n",
    "min_length = 30"
   ]
  },
  {
   "cell_type": "code",
   "execution_count": 5,
   "id": "37116bbb",
   "metadata": {},
   "outputs": [],
   "source": [
    "summary = sum_pipeline(text, max_length=max_length, min_length=min_length, do_sample=False)"
   ]
  },
  {
   "cell_type": "code",
   "execution_count": 6,
   "id": "d663bc1f",
   "metadata": {},
   "outputs": [
    {
     "name": "stdout",
     "output_type": "stream",
     "text": [
      "[{'summary_text': 'The bill would allow digital assets to be traded on more conventional trading platforms. It would grant the Commodity Futures Trading Commission explicit spot market authority. The Securities and Exchange Commission would regulate digital-asset securities.'}]\n"
     ]
    }
   ],
   "source": [
    "print(summary)"
   ]
  },
  {
   "cell_type": "code",
   "execution_count": 7,
   "id": "d2636431",
   "metadata": {},
   "outputs": [],
   "source": [
    "from transformers import AutoModelWithLMHead, AutoTokenizer"
   ]
  },
  {
   "cell_type": "code",
   "execution_count": 9,
   "id": "7f213918",
   "metadata": {},
   "outputs": [],
   "source": [
    "model = AutoModelWithLMHead.from_pretrained(\"t5-base\")\n",
    "tokenizer = AutoTokenizer.from_pretrained(\"t5-base\")"
   ]
  },
  {
   "cell_type": "code",
   "execution_count": 10,
   "id": "5d3fecc7",
   "metadata": {},
   "outputs": [],
   "source": [
    "inputs = tokenizer.encode(\"summarize: \" + text, return_tensors=\"pt\", max_length=512, truncation=True)"
   ]
  },
  {
   "cell_type": "code",
   "execution_count": 11,
   "id": "c2c87768",
   "metadata": {},
   "outputs": [],
   "source": [
    "outputs = model.generate(inputs, max_length=max_length, min_length=min_length, length_penalty=2.0, num_beams=4, early_stopping=True)"
   ]
  },
  {
   "cell_type": "code",
   "execution_count": 12,
   "id": "c14e6b29",
   "metadata": {},
   "outputs": [],
   "source": [
    "summary = tokenizer.decode(outputs[0], skip_spesial_tokens=True)"
   ]
  },
  {
   "cell_type": "code",
   "execution_count": 13,
   "id": "3c468bb9",
   "metadata": {},
   "outputs": [
    {
     "name": "stdout",
     "output_type": "stream",
     "text": [
      "<pad> the draft bill was co-authored by reps. Patrick McHenry, R-N.C., and Glenn Thompson, R-Pa. it would give the Commodity Futures Trading Commission explicit spot market authority over crypto commodities under existing law. the sEC would regulate digital-asset securities.</s>\n"
     ]
    }
   ],
   "source": [
    "print(summary)"
   ]
  }
 ],
 "metadata": {
  "kernelspec": {
   "display_name": "Python 3 (ipykernel)",
   "language": "python",
   "name": "python3"
  },
  "language_info": {
   "codemirror_mode": {
    "name": "ipython",
    "version": 3
   },
   "file_extension": ".py",
   "mimetype": "text/x-python",
   "name": "python",
   "nbconvert_exporter": "python",
   "pygments_lexer": "ipython3",
   "version": "3.10.11"
  }
 },
 "nbformat": 4,
 "nbformat_minor": 5
}
